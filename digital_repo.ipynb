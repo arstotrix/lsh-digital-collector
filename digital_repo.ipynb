{
  "nbformat": 4,
  "nbformat_minor": 0,
  "metadata": {
    "colab": {
      "name": "Варя2",
      "provenance": [],
      "authorship_tag": "ABX9TyPrQlzdY+HU5LKP2A51rK9A",
      "include_colab_link": true
    },
    "kernelspec": {
      "name": "python3",
      "display_name": "Python 3"
    },
    "language_info": {
      "name": "python"
    }
  },
  "cells": [
    {
      "cell_type": "markdown",
      "metadata": {
        "id": "view-in-github",
        "colab_type": "text"
      },
      "source": [
        "<a href=\"https://colab.research.google.com/github/arstotrix/lsh-digital-collector/blob/main/digital_repo.ipynb\" target=\"_parent\"><img src=\"https://colab.research.google.com/assets/colab-badge.svg\" alt=\"Open In Colab\"/></a>"
      ]
    },
    {
      "cell_type": "code",
      "source": [
        "from google.colab import drive\n",
        "drive.mount('/content/drive', force_remount = True)"
      ],
      "metadata": {
        "colab": {
          "base_uri": "https://localhost:8080/"
        },
        "id": "DG5OSuJP_D97",
        "outputId": "5bcff79f-f759-4f66-90fb-4a92842c033b"
      },
      "execution_count": null,
      "outputs": [
        {
          "output_type": "stream",
          "name": "stdout",
          "text": [
            "Mounted at /content/drive\n"
          ]
        }
      ]
    },
    {
      "cell_type": "code",
      "execution_count": null,
      "metadata": {
        "id": "zvCRO2H8reii"
      },
      "outputs": [],
      "source": [
        "import pandas as pd\n",
        "import numpy as np\n",
        "import matplotlib as mpl\n",
        "import matplotlib.pyplot as plt"
      ]
    },
    {
      "cell_type": "code",
      "source": [
        "df1 = pd.read_excel('/content/drive/MyDrive/_ЛШ2020-2021-2022-????_/лш2022/Варя таск/Список пожертвовавших через сайт (2022) __ Обновляется ежедневно.xlsx')\n",
        "df = pd.read_excel('/content/drive/MyDrive/_ЛШ2020-2021-2022-????_/лш2022/Варя таск/Списки участников мастерских 2022.xlsx')"
      ],
      "metadata": {
        "id": "EpOdxIVoEysw"
      },
      "execution_count": null,
      "outputs": []
    },
    {
      "cell_type": "code",
      "source": [
        "df1"
      ],
      "metadata": {
        "id": "pejLQwlNM35c",
        "colab": {
          "base_uri": "https://localhost:8080/",
          "height": 424
        },
        "outputId": "e26926b0-a18e-466f-9cc8-f25429f2e0fc"
      },
      "execution_count": null,
      "outputs": [
        {
          "output_type": "execute_result",
          "data": {
            "text/plain": [
              "             Unnamed: 0                    Пожертвовавший\n",
              "0   2022-08-09 11:53:16           Киселёв Роман Андреевич\n",
              "1   2022-08-09 19:11:31        Первухина Валерия Игоревна\n",
              "2   2022-06-23 15:18:25       Подколзина Мария Алексеевна\n",
              "3   2022-06-23 19:34:12       Аверина Анастасия Андреевна\n",
              "4   2022-06-24 11:06:14  Фиронова Маргарита Александровна\n",
              "..                  ...                               ...\n",
              "527 2022-08-11 18:21:58        Глушанина Мария Евгеньевна\n",
              "528 2022-08-11 00:42:15         Колодин Никита Алексеевич\n",
              "529 2022-08-11 06:50:56          Шпотин Никита Валерьевич\n",
              "530 2022-08-11 09:44:57         Каширских Анна Михайловна\n",
              "531 2022-08-11 20:43:12             Рыбина Елена Петровна\n",
              "\n",
              "[532 rows x 2 columns]"
            ],
            "text/html": [
              "\n",
              "  <div id=\"df-39509425-b058-4bac-a246-ef0deb5fa61f\">\n",
              "    <div class=\"colab-df-container\">\n",
              "      <div>\n",
              "<style scoped>\n",
              "    .dataframe tbody tr th:only-of-type {\n",
              "        vertical-align: middle;\n",
              "    }\n",
              "\n",
              "    .dataframe tbody tr th {\n",
              "        vertical-align: top;\n",
              "    }\n",
              "\n",
              "    .dataframe thead th {\n",
              "        text-align: right;\n",
              "    }\n",
              "</style>\n",
              "<table border=\"1\" class=\"dataframe\">\n",
              "  <thead>\n",
              "    <tr style=\"text-align: right;\">\n",
              "      <th></th>\n",
              "      <th>Unnamed: 0</th>\n",
              "      <th>Пожертвовавший</th>\n",
              "    </tr>\n",
              "  </thead>\n",
              "  <tbody>\n",
              "    <tr>\n",
              "      <th>0</th>\n",
              "      <td>2022-08-09 11:53:16</td>\n",
              "      <td>Киселёв Роман Андреевич</td>\n",
              "    </tr>\n",
              "    <tr>\n",
              "      <th>1</th>\n",
              "      <td>2022-08-09 19:11:31</td>\n",
              "      <td>Первухина Валерия Игоревна</td>\n",
              "    </tr>\n",
              "    <tr>\n",
              "      <th>2</th>\n",
              "      <td>2022-06-23 15:18:25</td>\n",
              "      <td>Подколзина Мария Алексеевна</td>\n",
              "    </tr>\n",
              "    <tr>\n",
              "      <th>3</th>\n",
              "      <td>2022-06-23 19:34:12</td>\n",
              "      <td>Аверина Анастасия Андреевна</td>\n",
              "    </tr>\n",
              "    <tr>\n",
              "      <th>4</th>\n",
              "      <td>2022-06-24 11:06:14</td>\n",
              "      <td>Фиронова Маргарита Александровна</td>\n",
              "    </tr>\n",
              "    <tr>\n",
              "      <th>...</th>\n",
              "      <td>...</td>\n",
              "      <td>...</td>\n",
              "    </tr>\n",
              "    <tr>\n",
              "      <th>527</th>\n",
              "      <td>2022-08-11 18:21:58</td>\n",
              "      <td>Глушанина Мария Евгеньевна</td>\n",
              "    </tr>\n",
              "    <tr>\n",
              "      <th>528</th>\n",
              "      <td>2022-08-11 00:42:15</td>\n",
              "      <td>Колодин Никита Алексеевич</td>\n",
              "    </tr>\n",
              "    <tr>\n",
              "      <th>529</th>\n",
              "      <td>2022-08-11 06:50:56</td>\n",
              "      <td>Шпотин Никита Валерьевич</td>\n",
              "    </tr>\n",
              "    <tr>\n",
              "      <th>530</th>\n",
              "      <td>2022-08-11 09:44:57</td>\n",
              "      <td>Каширских Анна Михайловна</td>\n",
              "    </tr>\n",
              "    <tr>\n",
              "      <th>531</th>\n",
              "      <td>2022-08-11 20:43:12</td>\n",
              "      <td>Рыбина Елена Петровна</td>\n",
              "    </tr>\n",
              "  </tbody>\n",
              "</table>\n",
              "<p>532 rows × 2 columns</p>\n",
              "</div>\n",
              "      <button class=\"colab-df-convert\" onclick=\"convertToInteractive('df-39509425-b058-4bac-a246-ef0deb5fa61f')\"\n",
              "              title=\"Convert this dataframe to an interactive table.\"\n",
              "              style=\"display:none;\">\n",
              "        \n",
              "  <svg xmlns=\"http://www.w3.org/2000/svg\" height=\"24px\"viewBox=\"0 0 24 24\"\n",
              "       width=\"24px\">\n",
              "    <path d=\"M0 0h24v24H0V0z\" fill=\"none\"/>\n",
              "    <path d=\"M18.56 5.44l.94 2.06.94-2.06 2.06-.94-2.06-.94-.94-2.06-.94 2.06-2.06.94zm-11 1L8.5 8.5l.94-2.06 2.06-.94-2.06-.94L8.5 2.5l-.94 2.06-2.06.94zm10 10l.94 2.06.94-2.06 2.06-.94-2.06-.94-.94-2.06-.94 2.06-2.06.94z\"/><path d=\"M17.41 7.96l-1.37-1.37c-.4-.4-.92-.59-1.43-.59-.52 0-1.04.2-1.43.59L10.3 9.45l-7.72 7.72c-.78.78-.78 2.05 0 2.83L4 21.41c.39.39.9.59 1.41.59.51 0 1.02-.2 1.41-.59l7.78-7.78 2.81-2.81c.8-.78.8-2.07 0-2.86zM5.41 20L4 18.59l7.72-7.72 1.47 1.35L5.41 20z\"/>\n",
              "  </svg>\n",
              "      </button>\n",
              "      \n",
              "  <style>\n",
              "    .colab-df-container {\n",
              "      display:flex;\n",
              "      flex-wrap:wrap;\n",
              "      gap: 12px;\n",
              "    }\n",
              "\n",
              "    .colab-df-convert {\n",
              "      background-color: #E8F0FE;\n",
              "      border: none;\n",
              "      border-radius: 50%;\n",
              "      cursor: pointer;\n",
              "      display: none;\n",
              "      fill: #1967D2;\n",
              "      height: 32px;\n",
              "      padding: 0 0 0 0;\n",
              "      width: 32px;\n",
              "    }\n",
              "\n",
              "    .colab-df-convert:hover {\n",
              "      background-color: #E2EBFA;\n",
              "      box-shadow: 0px 1px 2px rgba(60, 64, 67, 0.3), 0px 1px 3px 1px rgba(60, 64, 67, 0.15);\n",
              "      fill: #174EA6;\n",
              "    }\n",
              "\n",
              "    [theme=dark] .colab-df-convert {\n",
              "      background-color: #3B4455;\n",
              "      fill: #D2E3FC;\n",
              "    }\n",
              "\n",
              "    [theme=dark] .colab-df-convert:hover {\n",
              "      background-color: #434B5C;\n",
              "      box-shadow: 0px 1px 3px 1px rgba(0, 0, 0, 0.15);\n",
              "      filter: drop-shadow(0px 1px 2px rgba(0, 0, 0, 0.3));\n",
              "      fill: #FFFFFF;\n",
              "    }\n",
              "  </style>\n",
              "\n",
              "      <script>\n",
              "        const buttonEl =\n",
              "          document.querySelector('#df-39509425-b058-4bac-a246-ef0deb5fa61f button.colab-df-convert');\n",
              "        buttonEl.style.display =\n",
              "          google.colab.kernel.accessAllowed ? 'block' : 'none';\n",
              "\n",
              "        async function convertToInteractive(key) {\n",
              "          const element = document.querySelector('#df-39509425-b058-4bac-a246-ef0deb5fa61f');\n",
              "          const dataTable =\n",
              "            await google.colab.kernel.invokeFunction('convertToInteractive',\n",
              "                                                     [key], {});\n",
              "          if (!dataTable) return;\n",
              "\n",
              "          const docLinkHtml = 'Like what you see? Visit the ' +\n",
              "            '<a target=\"_blank\" href=https://colab.research.google.com/notebooks/data_table.ipynb>data table notebook</a>'\n",
              "            + ' to learn more about interactive tables.';\n",
              "          element.innerHTML = '';\n",
              "          dataTable['output_type'] = 'display_data';\n",
              "          await google.colab.output.renderOutput(dataTable, element);\n",
              "          const docLink = document.createElement('div');\n",
              "          docLink.innerHTML = docLinkHtml;\n",
              "          element.appendChild(docLink);\n",
              "        }\n",
              "      </script>\n",
              "    </div>\n",
              "  </div>\n",
              "  "
            ]
          },
          "metadata": {},
          "execution_count": 4
        }
      ]
    },
    {
      "cell_type": "code",
      "source": [
        "payers = list(df1['Пожертвовавший'])"
      ],
      "metadata": {
        "id": "48f-Udf__2aS"
      },
      "execution_count": null,
      "outputs": []
    },
    {
      "cell_type": "code",
      "source": [
        "def abcde(a):\n",
        "  i = 0\n",
        "  if a in payers:\n",
        "    i = 1\n",
        "  return i"
      ],
      "metadata": {
        "id": "KDYgH1PhOtSb"
      },
      "execution_count": null,
      "outputs": []
    },
    {
      "cell_type": "code",
      "source": [
        "def short(a):\n",
        "  return a[:8]"
      ],
      "metadata": {
        "id": "Wh6b9gf2sKLG"
      },
      "execution_count": null,
      "outputs": []
    },
    {
      "cell_type": "code",
      "source": [
        "df['Плательщики'] = df['ФИО'].apply(abcde)"
      ],
      "metadata": {
        "id": "KiC5OvnWPhMH"
      },
      "execution_count": null,
      "outputs": []
    },
    {
      "cell_type": "code",
      "source": [
        "df[\"Мастерская_короткая\"] = df['Мастерская'].apply(short)"
      ],
      "metadata": {
        "id": "xf3Dl9mBsQeH"
      },
      "execution_count": null,
      "outputs": []
    },
    {
      "cell_type": "code",
      "source": [
        "not_paid = df[df['Плательщики'] == 0].groupby('Мастерская_короткая').count()['ФИО']\n",
        "paid = df[df['Плательщики'] == 1].groupby('Мастерская_короткая').count()['ФИО']\n",
        "not_paid\n",
        "for i in not_paid.index:\n",
        "#  print(i)\n",
        "  if i not in paid.index:\n",
        "    paid[i] = 0\n",
        "for i in paid.index:\n",
        "  if i not in not_paid.index:\n",
        "    not_paid[i] = 0"
      ],
      "metadata": {
        "id": "LVW06n9zIJZM"
      },
      "execution_count": null,
      "outputs": []
    },
    {
      "cell_type": "code",
      "source": [
        "paid = pd.Series.sort_index(paid)\n",
        "not_paid = pd.Series.sort_index(not_paid)"
      ],
      "metadata": {
        "id": "WPBqwg-5rifI"
      },
      "execution_count": null,
      "outputs": []
    },
    {
      "cell_type": "code",
      "source": [
        "fig, ax = plt.subplots()\n",
        "width = 0.5\n",
        "plt.rcParams[\"figure.figsize\"] = (16,5.5)\n",
        "\n",
        "ax.bar(paid.index, paid, width, label='Оплатили через сайт', color = '#C27EB3')\n",
        "ax.bar(not_paid.index, not_paid, width, bottom = paid, label='Не платили через сайт', color = '#421A32')\n",
        "\n",
        "ax.set_ylabel('Мастерские')\n",
        "ax.set_title('Оплата через сайт по состоянию на 9 августа')\n",
        "ax.legend()\n",
        "\n",
        "fig.show()\n",
        "plt.savefig('/content/drive/MyDrive/_ЛШ2020-2021-2022-????_/лш2022/Варя таск_2')"
      ],
      "metadata": {
        "colab": {
          "base_uri": "https://localhost:8080/",
          "height": 363
        },
        "id": "IZTI-JLNMSCU",
        "outputId": "7e6719bf-4cfa-4dcc-e2d2-80fa81c98108"
      },
      "execution_count": null,
      "outputs": [
        {
          "output_type": "display_data",
          "data": {
            "text/plain": [
              "<Figure size 1152x396 with 1 Axes>"
            ],
            "image/png": "[encoded data removed]"
          },
          "metadata": {
            "needs_background": "light"
          }
        }
      ]
    },
    {
      "cell_type": "code",
      "source": [
        "df.groupby(['Мастерская', \"Плательщики\"]).count()['ФИО']"
      ],
      "metadata": {
        "colab": {
          "base_uri": "https://localhost:8080/"
        },
        "id": "1gKo4xT3SmrH",
        "outputId": "17123d60-ecf4-4762-90fb-e81de944f41a"
      },
      "execution_count": null,
      "outputs": [
        {
          "output_type": "execute_result",
          "data": {
            "text/plain": [
              "Мастерская                      Плательщики\n",
              "Академ.навыки                   0               7\n",
              "                                1              13\n",
              "Гендерные Исследования          0              13\n",
              "                                1              21\n",
              "ДокКино                         0              10\n",
              "                                1              15\n",
              "ДокМед                          0               8\n",
              "                                1               9\n",
              "Зодчая мастерская               0              18\n",
              "                                1               6\n",
              "Китайская мастерская            0              12\n",
              "                                1               2\n",
              "МЖТ                             0              24\n",
              "                                1              28\n",
              "Мастерская культурной медиации  0              11\n",
              "                                1              13\n",
              "МузЛаб                          0              18\n",
              "                                1              10\n",
              "Продуктовые исследования        0              13\n",
              "                                1              12\n",
              "Урбанистика                     0               8\n",
              "                                1              11\n",
              "ЦПИ                             0              12\n",
              "ШНЖ                             0              28\n",
              "                                1              39\n",
              "Name: ФИО, dtype: int64"
            ]
          },
          "metadata": {},
          "execution_count": 13
        }
      ]
    },
    {
      "cell_type": "code",
      "source": [
        "df[(df['Мастерская'] == 'Гендерные Исследования') & (df['Плательщики'] == 0)]"
      ],
      "metadata": {
        "colab": {
          "base_uri": "https://localhost:8080/",
          "height": 457
        },
        "id": "F3Yar7rnT-by",
        "outputId": "124d1059-1cca-451d-f1ec-bd086bafc6b5"
      },
      "execution_count": null,
      "outputs": [
        {
          "output_type": "execute_result",
          "data": {
            "text/plain": [
              "                                  ФИО              Мастерская  Плательщики  \\\n",
              "238         Бурлакова Алена Сергеевна  Гендерные Исследования            0   \n",
              "246           Волкова Анна Дмитриевна  Гендерные Исследования            0   \n",
              "251        Зыкова Дарья Александровна  Гендерные Исследования            0   \n",
              "253         Кузьмина Наталья Егоровна  Гендерные Исследования            0   \n",
              "254         Соколов Евгений Сергеевич  Гендерные Исследования            0   \n",
              "256  Витальская Аполлинария Ильинична  Гендерные Исследования            0   \n",
              "263               Анна Край (Иванова)  Гендерные Исследования            0   \n",
              "264                    Кулиева Алмара  Гендерные Исследования            0   \n",
              "265                     Головина Анна  Гендерные Исследования            0   \n",
              "266                   Погребняк Мария  Гендерные Исследования            0   \n",
              "267                   Пахтусова Ольга  Гендерные Исследования            0   \n",
              "268                    Миськова Елена  Гендерные Исследования            0   \n",
              "269                  Трубачева Рената  Гендерные Исследования            0   \n",
              "\n",
              "    Мастерская_короткая  \n",
              "238            Гендерны  \n",
              "246            Гендерны  \n",
              "251            Гендерны  \n",
              "253            Гендерны  \n",
              "254            Гендерны  \n",
              "256            Гендерны  \n",
              "263            Гендерны  \n",
              "264            Гендерны  \n",
              "265            Гендерны  \n",
              "266            Гендерны  \n",
              "267            Гендерны  \n",
              "268            Гендерны  \n",
              "269            Гендерны  "
            ],
            "text/html": [
              "\n",
              "  <div id=\"df-3b277cda-d2eb-49ee-ac41-d9f495f23a0b\">\n",
              "    <div class=\"colab-df-container\">\n",
              "      <div>\n",
              "<style scoped>\n",
              "    .dataframe tbody tr th:only-of-type {\n",
              "        vertical-align: middle;\n",
              "    }\n",
              "\n",
              "    .dataframe tbody tr th {\n",
              "        vertical-align: top;\n",
              "    }\n",
              "\n",
              "    .dataframe thead th {\n",
              "        text-align: right;\n",
              "    }\n",
              "</style>\n",
              "<table border=\"1\" class=\"dataframe\">\n",
              "  <thead>\n",
              "    <tr style=\"text-align: right;\">\n",
              "      <th></th>\n",
              "      <th>ФИО</th>\n",
              "      <th>Мастерская</th>\n",
              "      <th>Плательщики</th>\n",
              "      <th>Мастерская_короткая</th>\n",
              "    </tr>\n",
              "  </thead>\n",
              "  <tbody>\n",
              "    <tr>\n",
              "      <th>238</th>\n",
              "      <td>Бурлакова Алена Сергеевна</td>\n",
              "      <td>Гендерные Исследования</td>\n",
              "      <td>0</td>\n",
              "      <td>Гендерны</td>\n",
              "    </tr>\n",
              "    <tr>\n",
              "      <th>246</th>\n",
              "      <td>Волкова Анна Дмитриевна</td>\n",
              "      <td>Гендерные Исследования</td>\n",
              "      <td>0</td>\n",
              "      <td>Гендерны</td>\n",
              "    </tr>\n",
              "    <tr>\n",
              "      <th>251</th>\n",
              "      <td>Зыкова Дарья Александровна</td>\n",
              "      <td>Гендерные Исследования</td>\n",
              "      <td>0</td>\n",
              "      <td>Гендерны</td>\n",
              "    </tr>\n",
              "    <tr>\n",
              "      <th>253</th>\n",
              "      <td>Кузьмина Наталья Егоровна</td>\n",
              "      <td>Гендерные Исследования</td>\n",
              "      <td>0</td>\n",
              "      <td>Гендерны</td>\n",
              "    </tr>\n",
              "    <tr>\n",
              "      <th>254</th>\n",
              "      <td>Соколов Евгений Сергеевич</td>\n",
              "      <td>Гендерные Исследования</td>\n",
              "      <td>0</td>\n",
              "      <td>Гендерны</td>\n",
              "    </tr>\n",
              "    <tr>\n",
              "      <th>256</th>\n",
              "      <td>Витальская Аполлинария Ильинична</td>\n",
              "      <td>Гендерные Исследования</td>\n",
              "      <td>0</td>\n",
              "      <td>Гендерны</td>\n",
              "    </tr>\n",
              "    <tr>\n",
              "      <th>263</th>\n",
              "      <td>Анна Край (Иванова)</td>\n",
              "      <td>Гендерные Исследования</td>\n",
              "      <td>0</td>\n",
              "      <td>Гендерны</td>\n",
              "    </tr>\n",
              "    <tr>\n",
              "      <th>264</th>\n",
              "      <td>Кулиева Алмара</td>\n",
              "      <td>Гендерные Исследования</td>\n",
              "      <td>0</td>\n",
              "      <td>Гендерны</td>\n",
              "    </tr>\n",
              "    <tr>\n",
              "      <th>265</th>\n",
              "      <td>Головина Анна</td>\n",
              "      <td>Гендерные Исследования</td>\n",
              "      <td>0</td>\n",
              "      <td>Гендерны</td>\n",
              "    </tr>\n",
              "    <tr>\n",
              "      <th>266</th>\n",
              "      <td>Погребняк Мария</td>\n",
              "      <td>Гендерные Исследования</td>\n",
              "      <td>0</td>\n",
              "      <td>Гендерны</td>\n",
              "    </tr>\n",
              "    <tr>\n",
              "      <th>267</th>\n",
              "      <td>Пахтусова Ольга</td>\n",
              "      <td>Гендерные Исследования</td>\n",
              "      <td>0</td>\n",
              "      <td>Гендерны</td>\n",
              "    </tr>\n",
              "    <tr>\n",
              "      <th>268</th>\n",
              "      <td>Миськова Елена</td>\n",
              "      <td>Гендерные Исследования</td>\n",
              "      <td>0</td>\n",
              "      <td>Гендерны</td>\n",
              "    </tr>\n",
              "    <tr>\n",
              "      <th>269</th>\n",
              "      <td>Трубачева Рената</td>\n",
              "      <td>Гендерные Исследования</td>\n",
              "      <td>0</td>\n",
              "      <td>Гендерны</td>\n",
              "    </tr>\n",
              "  </tbody>\n",
              "</table>\n",
              "</div>\n",
              "      <button class=\"colab-df-convert\" onclick=\"convertToInteractive('df-3b277cda-d2eb-49ee-ac41-d9f495f23a0b')\"\n",
              "              title=\"Convert this dataframe to an interactive table.\"\n",
              "              style=\"display:none;\">\n",
              "        \n",
              "  <svg xmlns=\"http://www.w3.org/2000/svg\" height=\"24px\"viewBox=\"0 0 24 24\"\n",
              "       width=\"24px\">\n",
              "    <path d=\"M0 0h24v24H0V0z\" fill=\"none\"/>\n",
              "    <path d=\"M18.56 5.44l.94 2.06.94-2.06 2.06-.94-2.06-.94-.94-2.06-.94 2.06-2.06.94zm-11 1L8.5 8.5l.94-2.06 2.06-.94-2.06-.94L8.5 2.5l-.94 2.06-2.06.94zm10 10l.94 2.06.94-2.06 2.06-.94-2.06-.94-.94-2.06-.94 2.06-2.06.94z\"/><path d=\"M17.41 7.96l-1.37-1.37c-.4-.4-.92-.59-1.43-.59-.52 0-1.04.2-1.43.59L10.3 9.45l-7.72 7.72c-.78.78-.78 2.05 0 2.83L4 21.41c.39.39.9.59 1.41.59.51 0 1.02-.2 1.41-.59l7.78-7.78 2.81-2.81c.8-.78.8-2.07 0-2.86zM5.41 20L4 18.59l7.72-7.72 1.47 1.35L5.41 20z\"/>\n",
              "  </svg>\n",
              "      </button>\n",
              "      \n",
              "  <style>\n",
              "    .colab-df-container {\n",
              "      display:flex;\n",
              "      flex-wrap:wrap;\n",
              "      gap: 12px;\n",
              "    }\n",
              "\n",
              "    .colab-df-convert {\n",
              "      background-color: #E8F0FE;\n",
              "      border: none;\n",
              "      border-radius: 50%;\n",
              "      cursor: pointer;\n",
              "      display: none;\n",
              "      fill: #1967D2;\n",
              "      height: 32px;\n",
              "      padding: 0 0 0 0;\n",
              "      width: 32px;\n",
              "    }\n",
              "\n",
              "    .colab-df-convert:hover {\n",
              "      background-color: #E2EBFA;\n",
              "      box-shadow: 0px 1px 2px rgba(60, 64, 67, 0.3), 0px 1px 3px 1px rgba(60, 64, 67, 0.15);\n",
              "      fill: #174EA6;\n",
              "    }\n",
              "\n",
              "    [theme=dark] .colab-df-convert {\n",
              "      background-color: #3B4455;\n",
              "      fill: #D2E3FC;\n",
              "    }\n",
              "\n",
              "    [theme=dark] .colab-df-convert:hover {\n",
              "      background-color: #434B5C;\n",
              "      box-shadow: 0px 1px 3px 1px rgba(0, 0, 0, 0.15);\n",
              "      filter: drop-shadow(0px 1px 2px rgba(0, 0, 0, 0.3));\n",
              "      fill: #FFFFFF;\n",
              "    }\n",
              "  </style>\n",
              "\n",
              "      <script>\n",
              "        const buttonEl =\n",
              "          document.querySelector('#df-3b277cda-d2eb-49ee-ac41-d9f495f23a0b button.colab-df-convert');\n",
              "        buttonEl.style.display =\n",
              "          google.colab.kernel.accessAllowed ? 'block' : 'none';\n",
              "\n",
              "        async function convertToInteractive(key) {\n",
              "          const element = document.querySelector('#df-3b277cda-d2eb-49ee-ac41-d9f495f23a0b');\n",
              "          const dataTable =\n",
              "            await google.colab.kernel.invokeFunction('convertToInteractive',\n",
              "                                                     [key], {});\n",
              "          if (!dataTable) return;\n",
              "\n",
              "          const docLinkHtml = 'Like what you see? Visit the ' +\n",
              "            '<a target=\"_blank\" href=https://colab.research.google.com/notebooks/data_table.ipynb>data table notebook</a>'\n",
              "            + ' to learn more about interactive tables.';\n",
              "          element.innerHTML = '';\n",
              "          dataTable['output_type'] = 'display_data';\n",
              "          await google.colab.output.renderOutput(dataTable, element);\n",
              "          const docLink = document.createElement('div');\n",
              "          docLink.innerHTML = docLinkHtml;\n",
              "          element.appendChild(docLink);\n",
              "        }\n",
              "      </script>\n",
              "    </div>\n",
              "  </div>\n",
              "  "
            ]
          },
          "metadata": {},
          "execution_count": 14
        }
      ]
    }
  ]
}