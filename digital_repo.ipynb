{
  "nbformat": 4,
  "nbformat_minor": 0,
  "metadata": {
    "colab": {
      "name": "Варя2",
      "provenance": [],
      "authorship_tag": "ABX9TyOfRnt6cu1V0MlpYLegcQ9M",
      "include_colab_link": true
    },
    "kernelspec": {
      "name": "python3",
      "display_name": "Python 3"
    },
    "language_info": {
      "name": "python"
    }
  },
  "cells": [
    {
      "cell_type": "markdown",
      "metadata": {
        "id": "view-in-github",
        "colab_type": "text"
      },
      "source": [
        "<a href=\"https://colab.research.google.com/github/arstotrix/lsh-digital-collector/blob/main/digital_repo.ipynb\" target=\"_parent\"><img src=\"https://colab.research.google.com/assets/colab-badge.svg\" alt=\"Open In Colab\"/></a>"
      ]
    },
    {
      "cell_type": "markdown",
      "source": [
        "# Первым делом давайте подготовим данные.\n",
        "\n",
        "На вашем Гугл-диске должно лежать два файла, один - со списком пожертвовавших через сайт, второй - полный список участников, преподов и оргов всех мастерских. Оба файла должны быть в формате xlsx. \n",
        "\n",
        "В списке всех мастерских должно быть 2 колонки: \"ФИО\" и \"Мастерская\" (без кавычек). Для каждого участника (препода, орга) должны быть указаны его ФИО (именно в таком порядке) и мастерская. В конечном итоге это должно выглядеть так:\n",
        "\n",
        "![image.png](data:image/png;base64,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)"
      ],
      "metadata": {
        "id": "wZvPeWsGSoKP"
      }
    },
    {
      "cell_type": "markdown",
      "source": [
        "# Затем надо подключить Гугл-диск, что мы, собственно, и делаем. \n",
        "\n",
        "Программа будет спрашивать разрешения подключиться к Гугл-диску, его будет необходимо дать."
      ],
      "metadata": {
        "id": "TcDwr0t548qk"
      }
    },
    {
      "cell_type": "code",
      "source": [
        "from google.colab import drive\n",
        "drive.mount('/content/drive', force_remount = True)"
      ],
      "metadata": {
        "colab": {
          "base_uri": "https://localhost:8080/"
        },
        "id": "DG5OSuJP_D97",
        "outputId": "5de729a0-c694-4ceb-b6d9-32606e7ab1ae"
      },
      "execution_count": null,
      "outputs": [
        {
          "output_type": "stream",
          "name": "stdout",
          "text": [
            "Mounted at /content/drive\n"
          ]
        }
      ]
    },
    {
      "cell_type": "code",
      "execution_count": null,
      "metadata": {
        "id": "zvCRO2H8reii"
      },
      "outputs": [],
      "source": [
        "import pandas as pd\n",
        "import numpy as np\n",
        "import matplotlib as mpl\n",
        "import matplotlib.pyplot as plt"
      ]
    },
    {
      "cell_type": "markdown",
      "source": [
        "# Теперь вам придётся немного покодить самим, но там не страшно. \n",
        "\n",
        "На вашем Гугл-диске должно лежать два файла, один - со списком пожертвовавших через сайт, второй - полный список участников. После того, как мы подключили Гугл-диск к этой программе, мы можем доставать файлы прямо оттуда.\n",
        "\n",
        "Нажмите на папку слева (слева панелька с 4 элементами: меню, лупа, икс в скобках и папка, вот на неё). Теперь спуститесь в drive, потом в MyDrive, и окажетесь на своём диске. Найдите на нём файл с пожертвовавшими и скопируйте полный путь к нему (наведите курсор на название, сбоку появятся три точки, нажмите на них, выпадет меню, выберите \"Скопировать путь\".) \n",
        "\n",
        "Теперь в ячейке ниже найдите переменную `donations`. Замените текст в двойных кавычках на скопированный путь к файлу, примерно так: `donations = \"/content/drive/MyDrive/лш2022/Список пожертвовавших через сайт (2022) __ Обновляется ежедневно.xlsx\"` \n",
        "\n",
        "Теперь проделайте то же самое со списком участников, но вместо переменной `donations` поменяйте переменную `workshops`"
      ],
      "metadata": {
        "id": "SfVblcmQRdoQ"
      }
    },
    {
      "cell_type": "code",
      "source": [
        "donations = \"/content/drive/MyDrive/лш2022/Список пожертвовавших через сайт (2022) __ Обновляется ежедневно.xlsx\"\n",
        "workshops = \"/content/drive/MyDrive//лш2022/Списки участников мастерских 2022.xlsx\""
      ],
      "metadata": {
        "id": "BSGVlF-Tbr_K"
      },
      "execution_count": null,
      "outputs": []
    },
    {
      "cell_type": "code",
      "source": [
        "donations = \"вставьте сюда полный путь к файлу с пожертвованиями, как в примере\"\n",
        "workshops = \"вставьте сюда полный путь к файлу с участниками, как в примере\""
      ],
      "metadata": {
        "id": "n3fDq81kUgnD"
      },
      "execution_count": null,
      "outputs": []
    },
    {
      "cell_type": "markdown",
      "source": [
        "## Теперь мы читаем оба файла и смотрим, чтобы всё работало. "
      ],
      "metadata": {
        "id": "1nPG57_liXfz"
      }
    },
    {
      "cell_type": "code",
      "source": [
        "don = pd.read_excel(donations)\n",
        "wsh = pd.read_excel(workshops)"
      ],
      "metadata": {
        "id": "EpOdxIVoEysw"
      },
      "execution_count": null,
      "outputs": []
    },
    {
      "cell_type": "markdown",
      "source": [
        "Датасет don должен выглядеть так: \n",
        "\n",
        "![image.png](data:image/png;base64,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)\n",
        "\n",
        "Датасет wsh - так:\n",
        "\n",
        "![image.png](data:image/png;base64,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)"
      ],
      "metadata": {
        "id": "xjKE2K_Zb35T"
      }
    },
    {
      "cell_type": "code",
      "source": [
        "don = don.set_axis(['Дата', 'Пожертвовавший'], axis = 1)\n",
        "don"
      ],
      "metadata": {
        "id": "pejLQwlNM35c"
      },
      "execution_count": null,
      "outputs": []
    },
    {
      "cell_type": "code",
      "source": [
        "wsh"
      ],
      "metadata": {
        "id": "09gqMdn2ZMKV"
      },
      "execution_count": null,
      "outputs": []
    },
    {
      "cell_type": "markdown",
      "source": [
        "Теперь мы извлекаем ФИО сдавших деньги в отдельный список, а также создаём две функции - для поиска неплательщиков и для сокращения имени мастерской\n"
      ],
      "metadata": {
        "id": "gmYu66a4cj5i"
      }
    },
    {
      "cell_type": "code",
      "source": [
        "payers = list(don['Пожертвовавший'])"
      ],
      "metadata": {
        "id": "48f-Udf__2aS"
      },
      "execution_count": null,
      "outputs": []
    },
    {
      "cell_type": "code",
      "source": [
        "# поиск неплательщиков\n",
        "\n",
        "def abcde(a):\n",
        "  i = 0\n",
        "  if a in payers:\n",
        "    i = 1\n",
        "  return i"
      ],
      "metadata": {
        "id": "KDYgH1PhOtSb"
      },
      "execution_count": null,
      "outputs": []
    },
    {
      "cell_type": "code",
      "source": [
        "# краткое имя мастерской для графика\n",
        "\n",
        "def short(a):\n",
        "  return a[:8]"
      ],
      "metadata": {
        "id": "Wh6b9gf2sKLG"
      },
      "execution_count": null,
      "outputs": []
    },
    {
      "cell_type": "markdown",
      "source": [
        "Теперь мы применяем обе функции: первая ищет ФИО участника в списке сдавших, вторая обрезает название мастерской, чтобы оно влезло на график (я смотрю на вас, мастерская перевода и локализации!)"
      ],
      "metadata": {
        "id": "yKM4A_xDdQpA"
      }
    },
    {
      "cell_type": "code",
      "source": [
        "wsh['Плательщики'] = wsh['ФИО'].apply(abcde)"
      ],
      "metadata": {
        "id": "KiC5OvnWPhMH"
      },
      "execution_count": null,
      "outputs": []
    },
    {
      "cell_type": "code",
      "source": [
        "wsh[\"Мастерская_короткая\"] = wsh['Мастерская'].apply(short)"
      ],
      "metadata": {
        "id": "xf3Dl9mBsQeH"
      },
      "execution_count": null,
      "outputs": []
    },
    {
      "cell_type": "markdown",
      "source": [
        "Теперь мы готовим данные для графика - мы считаем, сколько в каждой мастерской заплативших и не заплативших."
      ],
      "metadata": {
        "id": "2bMVdLIQdns0"
      }
    },
    {
      "cell_type": "code",
      "source": [
        "not_paid = wsh[wsh['Плательщики'] == 0].groupby('Мастерская_короткая').count()['ФИО']\n",
        "paid = wsh[wsh['Плательщики'] == 1].groupby('Мастерская_короткая').count()['ФИО']\n",
        "not_paid\n",
        "for i in not_paid.index:\n",
        "  if i not in paid.index:\n",
        "    paid[i] = 0\n",
        "for i in paid.index:\n",
        "  if i not in not_paid.index:\n",
        "    not_paid[i] = 0"
      ],
      "metadata": {
        "id": "LVW06n9zIJZM"
      },
      "execution_count": null,
      "outputs": []
    },
    {
      "cell_type": "code",
      "source": [
        "paid = pd.Series.sort_index(paid)\n",
        "not_paid = pd.Series.sort_index(not_paid)"
      ],
      "metadata": {
        "id": "WPBqwg-5rifI"
      },
      "execution_count": null,
      "outputs": []
    },
    {
      "cell_type": "markdown",
      "source": [
        "А вот и сам график. Если кого-то плохо сократили, извините :("
      ],
      "metadata": {
        "id": "DREfUhVCd530"
      }
    },
    {
      "cell_type": "code",
      "source": [
        "fig, ax = plt.subplots()\n",
        "width = 0.5\n",
        "plt.rcParams[\"figure.figsize\"] = (16,5.5)\n",
        "\n",
        "ax.bar(paid.index, paid, width, label='Оплатили через сайт', color = '#bbddff')\n",
        "ax.bar(not_paid.index, not_paid, width, bottom = paid, label='Не платили через сайт', color = '#008080')\n",
        "\n",
        "ax.set_ylabel('Мастерские')\n",
        "ax.set_ylabel('Количество оплативших')\n",
        "ax.set_title('Оплата через сайт по состоянию на сегодняшний день')\n",
        "ax.legend()\n",
        "\n",
        "fig.show()\n",
        "plt.savefig('/content/drive/MyDrive/paid_graph')"
      ],
      "metadata": {
        "colab": {
          "base_uri": "https://localhost:8080/",
          "height": 363
        },
        "id": "IZTI-JLNMSCU",
        "outputId": "5715936a-3fcf-4129-f529-543e25561493"
      },
      "execution_count": null,
      "outputs": [
        {
          "output_type": "display_data",
          "data": {
            "text/plain": [
              "<Figure size 1152x396 with 1 Axes>"
            ],
            "image/png": "[encoded data removed]"
          },
          "metadata": {
            "needs_background": "light"
          }
        }
      ]
    },
    {
      "cell_type": "markdown",
      "source": [
        "Вы хочете цифр? Их есть у меня. Вот этот код выведет количество оплативших и не оплативших в цифрах для каждой мастерской."
      ],
      "metadata": {
        "id": "JHNCSc1LedtG"
      }
    },
    {
      "cell_type": "code",
      "source": [
        "wsh.groupby(['Мастерская', \"Плательщики\"]).count()['ФИО']"
      ],
      "metadata": {
        "colab": {
          "base_uri": "https://localhost:8080/"
        },
        "id": "1gKo4xT3SmrH",
        "outputId": "17123d60-ecf4-4762-90fb-e81de944f41a"
      },
      "execution_count": null,
      "outputs": [
        {
          "output_type": "execute_result",
          "data": {
            "text/plain": [
              "Мастерская                      Плательщики\n",
              "Академ.навыки                   0               7\n",
              "                                1              13\n",
              "Гендерные Исследования          0              13\n",
              "                                1              21\n",
              "ДокКино                         0              10\n",
              "                                1              15\n",
              "ДокМед                          0               8\n",
              "                                1               9\n",
              "Зодчая мастерская               0              18\n",
              "                                1               6\n",
              "Китайская мастерская            0              12\n",
              "                                1               2\n",
              "МЖТ                             0              24\n",
              "                                1              28\n",
              "Мастерская культурной медиации  0              11\n",
              "                                1              13\n",
              "МузЛаб                          0              18\n",
              "                                1              10\n",
              "Продуктовые исследования        0              13\n",
              "                                1              12\n",
              "Урбанистика                     0               8\n",
              "                                1              11\n",
              "ЦПИ                             0              12\n",
              "ШНЖ                             0              28\n",
              "                                1              39\n",
              "Name: ФИО, dtype: int64"
            ]
          },
          "metadata": {},
          "execution_count": 13
        }
      ]
    },
    {
      "cell_type": "markdown",
      "source": [
        "А если хотите поймать халявщиков пофамильно, то замените в следующей ячейке слова `Ваша Мастерская` на название вашей мастерской. Его нужжно будет скопировать из результата выполнения предыдущей ячечки или из самого файла, чтобы в запросе было, например, `Академ.навыки`, а не Академнавыки или АкадемНавыки. Питон очень чувствительный к такой штуке :(\n",
        "\n",
        "И следите за пробелами!"
      ],
      "metadata": {
        "id": "tqttmkPpfNhM"
      }
    },
    {
      "cell_type": "code",
      "source": [
        "wsh[(wsh['Мастерская'] == 'Ваша Мастерская') & (wsh['Плательщики'] == 0)]"
      ],
      "metadata": {
        "id": "F3Yar7rnT-by"
      },
      "execution_count": null,
      "outputs": []
    }
  ]
}